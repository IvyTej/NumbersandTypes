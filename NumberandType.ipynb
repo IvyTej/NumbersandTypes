{
 "cells": [
  {
   "cell_type": "code",
   "execution_count": 10,
   "id": "e73598b5-aa21-4e9c-9829-d66914b67110",
   "metadata": {},
   "outputs": [
    {
     "data": {
      "text/plain": [
       "24"
      ]
     },
     "execution_count": 10,
     "metadata": {},
     "output_type": "execute_result"
    }
   ],
   "source": [
    "seconds_per_minute = 60\n",
    "minutes_per_hour = 60\n",
    "seconds_per_hour = seconds_per_minute * minutes_per_hour\n",
    "seconds_per_day = seconds_per_hour * 24\n",
    "float_divide = seconds_per_day / seconds_per_hour\n",
    "float_divide\n",
    "int_divide = seconds_per_day // seconds_per_hour\n",
    "int_divide\n",
    "#With the exception of the .0 that comes from floating-point division, the integer division value matches the floating-point value."
   ]
  },
  {
   "cell_type": "code",
   "execution_count": null,
   "id": "10c6c411-a62f-47f1-9561-9c70af191513",
   "metadata": {},
   "outputs": [],
   "source": []
  }
 ],
 "metadata": {
  "kernelspec": {
   "display_name": "Python 3 (ipykernel)",
   "language": "python",
   "name": "python3"
  },
  "language_info": {
   "codemirror_mode": {
    "name": "ipython",
    "version": 3
   },
   "file_extension": ".py",
   "mimetype": "text/x-python",
   "name": "python",
   "nbconvert_exporter": "python",
   "pygments_lexer": "ipython3",
   "version": "3.12.4"
  }
 },
 "nbformat": 4,
 "nbformat_minor": 5
}
